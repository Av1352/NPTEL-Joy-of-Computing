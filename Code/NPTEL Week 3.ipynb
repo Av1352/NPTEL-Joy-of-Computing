{
 "cells": [
  {
   "cell_type": "code",
   "execution_count": 1,
   "metadata": {},
   "outputs": [
    {
     "name": "stdout",
     "output_type": "stream",
     "text": [
      "we\n",
      "were\n",
      "here\n"
     ]
    }
   ],
   "source": [
    "L = [\"we\", \"were\", \"here\", \"together \" ]\n",
    "for i in range(3):\n",
    "  print(L[i])"
   ]
  },
  {
   "cell_type": "code",
   "execution_count": 1,
   "metadata": {},
   "outputs": [
    {
     "name": "stdout",
     "output_type": "stream",
     "text": [
      "['Even', 'Odd', 'Even', 'Odd', 'Even']\n"
     ]
    }
   ],
   "source": [
    "L = []\n",
    "for i in range(5):\n",
    "  if (i%2 == 0):\n",
    "    L.append (\"Even\")\n",
    "  else:\n",
    "    L.append (\"Odd\")\n",
    "print (L)"
   ]
  },
  {
   "cell_type": "code",
   "execution_count": 3,
   "metadata": {},
   "outputs": [
    {
     "name": "stdout",
     "output_type": "stream",
     "text": [
      "1\n",
      "3\n",
      "5"
     ]
    }
   ],
   "source": [
    "L = [int(i) for i in input().split()]\n",
    "for i in range(len(L)):\n",
    "  if i%2!=0:\n",
    "    if len(L)-i<=2:\n",
    "      print(L[i], end=\"\")\n",
    "    else:\n",
    "      print(L[i])"
   ]
  }
 ],
 "metadata": {
  "interpreter": {
   "hash": "30fc89ff08706d63a43ed97d41edccf680ad820a0599a4ed9844163a4ca53dc4"
  },
  "kernelspec": {
   "display_name": "Python 3.10.2 64-bit",
   "language": "python",
   "name": "python3"
  },
  "language_info": {
   "codemirror_mode": {
    "name": "ipython",
    "version": 3
   },
   "file_extension": ".py",
   "mimetype": "text/x-python",
   "name": "python",
   "nbconvert_exporter": "python",
   "pygments_lexer": "ipython3",
   "version": "3.10.2"
  },
  "orig_nbformat": 4
 },
 "nbformat": 4,
 "nbformat_minor": 2
}
