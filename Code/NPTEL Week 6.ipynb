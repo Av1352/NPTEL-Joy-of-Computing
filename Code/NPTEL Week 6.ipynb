{
 "cells": [
  {
   "cell_type": "markdown",
   "metadata": {},
   "source": [
    "Substitution Cipher"
   ]
  },
  {
   "cell_type": "code",
   "execution_count": null,
   "metadata": {},
   "outputs": [],
   "source": [
    "import string\n",
    "dict={}\n",
    "data=\"\"\n",
    "file=open(\"file.txt\",\"w\")\n",
    "for i in range(len(string.ascii_letters)):\n",
    "    dict[string.ascii_letters[i]]=string.ascii_letters[i-1]\n",
    "print(dict)\n",
    "with open (\"sample.txt\") as f:\n",
    "    while(True):\n",
    "        c=f.read(1)\n",
    "        if not c: #when the pointer reaches the end of file i.e. no more elements\n",
    "            print(\"reached the end of file\")\n",
    "            break\n",
    "        if c in dict:\n",
    "            data=dict[c]\n",
    "        else:\n",
    "            data=c\n",
    "        file.write(data)\n",
    "        print(data)\n",
    "file.close()"
   ]
  },
  {
   "cell_type": "markdown",
   "metadata": {},
   "source": [
    "Tic Tac Toe"
   ]
  },
  {
   "cell_type": "code",
   "execution_count": null,
   "metadata": {},
   "outputs": [],
   "source": [
    "import numpy\n",
    "import random\n",
    "board=numpy.array=[\"-\",\"-\",\"-\"],[\"-\",\"-\",\"-\"],[\"-\",\"-\",\"-\"]\n",
    "p1s=\"x\"\n",
    "p2s=\"o\"\n",
    "\n",
    "def place(symbol):\n",
    "    print (numpy.matrix(board))\n",
    "    while(1):\n",
    "        row=int(input(\"enter row \"))\n",
    "        col=int(input(\"enter column \"))\n",
    "        if (row>0 and row <4 and col>0 and col<4 and board[row-1][col-1]==\"-\"):\n",
    "            break\n",
    "        else:\n",
    "            print(\"please enter valid input\")\n",
    "    board[row-1][col-1]=symbol\n",
    "def won(symbol):\n",
    "    return check_rows(symbol) or check_columns(symbol) or check_diagonals(symbol)\n",
    "def check_rows(symbol):\n",
    "    for r in range(3):\n",
    "        count=0\n",
    "        for c in range(3):\n",
    "            if board[r][c]==symbol:\n",
    "                count+=1\n",
    "        if (count==3):\n",
    "            print(numpy.matrix(board))\n",
    "            print(symbol,\"won\")\n",
    "            return True\n",
    "    return False\n",
    "def check_columns(symbol):\n",
    "    for c in range(3):\n",
    "        count=0\n",
    "        for r in range(3):\n",
    "            if board[r][c]==symbol:\n",
    "                count+=1\n",
    "        if (count==3):\n",
    "            print(numpy.matrix(board))\n",
    "            print(symbol,\" won\")\n",
    "            return True\n",
    "    return False\n",
    "def check_diagonals(symbol):\n",
    "    if (board[0][0] == board[1][1] and board[1][1]==board[2][2] and board[1][1]==symbol):\n",
    "        print(numpy.matrix(board))\n",
    "        print(symbol,\" won\")\n",
    "        return True\n",
    "    if (board[0][2] == board[1][1] and board[1][1]==board[2][0] and board[1][1]==symbol):\n",
    "        print(numpy.matrix(board))\n",
    "        print(symbol,\" won\")\n",
    "        return True\n",
    "    return False\n",
    "        \n",
    "        \n",
    "def play():\n",
    "    turn=start+1\n",
    "    count=1\n",
    "    for count in range(8):\n",
    "        if turn%2==0:\n",
    "                print(\"count is \",count)\n",
    "                count+=1\n",
    "                turn+=1\n",
    "                print(\"X turn \")\n",
    "                place(p1s)\n",
    "                if won(p1s):\n",
    "                    break\n",
    "        else:\n",
    "            print(\"count is\",count)\n",
    "            count+=1\n",
    "            turn+=1\n",
    "            print(\"O turn\")\n",
    "            place(p2s)\n",
    "            if won(p2s):\n",
    "                break\n",
    "    else: \n",
    "        print(\"match draws\")\n",
    "        \n",
    "        \n",
    "\n",
    "start=random.randint(1,100)\n",
    "print(start)\n",
    "if (start%2==0):\n",
    "    print(\"X turn \")\n",
    "    place(p1s)\n",
    "    play()\n",
    "else:\n",
    "    print(\"O turn \")\n",
    "    place(p2s)\n",
    "    play()"
   ]
  },
  {
   "cell_type": "markdown",
   "metadata": {},
   "source": [
    "Recursion"
   ]
  },
  {
   "cell_type": "code",
   "execution_count": null,
   "metadata": {},
   "outputs": [],
   "source": [
    "def fibonacci(n):\n",
    "    if (n<2):\n",
    "        return n\n",
    "    else:\n",
    "        rr=fibonacci(n-1)+fibonacci(n-2)\n",
    "        return rr\n",
    "n=10\n",
    "k=fibonacci(n)\n",
    "print(k,\" is the fibo number at the position\", n)"
   ]
  },
  {
   "cell_type": "markdown",
   "metadata": {},
   "source": [
    "Quiz"
   ]
  },
  {
   "cell_type": "code",
   "execution_count": null,
   "metadata": {},
   "outputs": [],
   "source": [
    "import string\n",
    "def shift (word , value) :\n",
    "  letters = string.ascii_lowercase\n",
    "  new = ''\n",
    "  for i in range(len(word)):\n",
    "    if word[i] in letters:\n",
    "      index = letters.index(word[i])\n",
    "      new = new + letters [(index+value)%26]\n",
    "    else:\n",
    "      new = new + word[i]\n",
    "  return new"
   ]
  },
  {
   "cell_type": "code",
   "execution_count": null,
   "metadata": {},
   "outputs": [],
   "source": [
    "import string\n",
    "def test(word) :\n",
    "  lower = string.ascii_lowercase\n",
    "  upper = string. ascii_uppercase\n",
    "  new_word =''\n",
    "  for ch in word:\n",
    "    if(ch in lower):\n",
    "      index = lower. index (ch)\n",
    "      new_word = new_word+ lower[(index+2) % 26]\n",
    "    elif(ch in upper):\n",
    "      index = upper. index (ch)\n",
    "      new_word = new_word + upper[(index+ 3) % 26]\n",
    "    else:\n",
    "      new_word = new_word + ch\n",
    "  return new_word\n",
    "print(test(\"The Joy OF Computing\"))"
   ]
  },
  {
   "cell_type": "code",
   "execution_count": null,
   "metadata": {},
   "outputs": [],
   "source": [
    "def recursive(num):\n",
    "  if(num == 1):\n",
    "    return 1\n",
    "  return num*(num-1)\n",
    "\n",
    "recursive(5)"
   ]
  },
  {
   "cell_type": "code",
   "execution_count": null,
   "metadata": {},
   "outputs": [],
   "source": [
    "def recursive (L) :\n",
    "  if(len (L) == 1):\n",
    "    return L[0]\n",
    "  return L[0] + recursive (L [1 :])\n",
    "\n",
    "print(recursive([1,2,3,4,5,6,7,8,9,10]))"
   ]
  },
  {
   "cell_type": "code",
   "execution_count": null,
   "metadata": {},
   "outputs": [],
   "source": [
    "def recursive (L):\n",
    "  if(len(L)<=6):\n",
    "    return L[-1]\n",
    "  return L[-1]*recursive(L[:-1])\n",
    "\n",
    "print(recursive([1,2,3,4,5,6, 7,8,9,10]))"
   ]
  },
  {
   "cell_type": "code",
   "execution_count": null,
   "metadata": {},
   "outputs": [],
   "source": [
    "def recursive (num) :\n",
    "  if(num==1):\n",
    "    print('*')\n",
    "    return\n",
    "  if(num%2 == 0):\n",
    "    print('*'*num)\n",
    "    recursive(num-1)\n",
    "    return\n",
    "  else:\n",
    "    recursive (num-1)\n",
    "    return\n",
    "recursive (10)"
   ]
  },
  {
   "cell_type": "markdown",
   "metadata": {},
   "source": [
    "Programming Assessment"
   ]
  },
  {
   "cell_type": "code",
   "execution_count": null,
   "metadata": {},
   "outputs": [],
   "source": [
    "N = int(input())\n",
    "L = [int(i) for i in input().split()]\n",
    "K = int(input())\n",
    "\n",
    "print(sorted(L).index(L[K-1])+1,end=\"\")"
   ]
  },
  {
   "cell_type": "code",
   "execution_count": null,
   "metadata": {},
   "outputs": [],
   "source": [
    "S = input()\n",
    "Cap=list(\"ABCDEFGHIJKLMNOPQRSTUVMWXYZ\")\n",
    "Small=list('abcdefghijklmnopqrstuvwxyz')\n",
    "ans=\"\"\n",
    "for a in S:\n",
    "  if a=='a':\n",
    "    ans+='y'\n",
    "  elif a=='b':\n",
    "    ans+='z'\n",
    "  elif a=='A':\n",
    "    ans+='X' \n",
    "  elif a=='B':\n",
    "    ans+='Y'\n",
    "  elif a=='C':\n",
    "    ans+='Z'\n",
    "  elif a=='W':\n",
    "    ans+='T'\n",
    "  else:\n",
    "    if a in Cap:\n",
    "      ans+=Cap[Cap.index(a)-3]\n",
    "    elif a in Small:\n",
    "      ans+=Small[Small.index(a)-2]\n",
    "    else:\n",
    "      ans+=a\n",
    "print(ans,end=\"\")"
   ]
  },
  {
   "cell_type": "code",
   "execution_count": null,
   "metadata": {},
   "outputs": [],
   "source": [
    "def whole(N):\n",
    "  return(sum(list(range(N+1))))\n",
    "\n",
    "N = int(input())\n",
    "print(whole(N))"
   ]
  }
 ],
 "metadata": {
  "interpreter": {
   "hash": "30fc89ff08706d63a43ed97d41edccf680ad820a0599a4ed9844163a4ca53dc4"
  },
  "kernelspec": {
   "display_name": "Python 3.10.2 64-bit",
   "language": "python",
   "name": "python3"
  },
  "language_info": {
   "name": "python",
   "version": "3.10.2"
  },
  "orig_nbformat": 4
 },
 "nbformat": 4,
 "nbformat_minor": 2
}
