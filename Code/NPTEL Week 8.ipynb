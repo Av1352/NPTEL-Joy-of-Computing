{
 "cells": [
  {
   "cell_type": "markdown",
   "metadata": {},
   "source": [
    "Lottery Simulation"
   ]
  },
  {
   "cell_type": "code",
   "execution_count": 3,
   "metadata": {},
   "outputs": [
    {
     "name": "stdout",
     "output_type": "stream",
     "text": [
      "Your money is  1300\n"
     ]
    }
   ],
   "source": [
    "import random\n",
    "\n",
    "#bet=int(input(\"enter number from 1 to 10 for your bet: \"))\n",
    "n=int(input(\"How many times u want to play :\"))\n",
    "account = 0\n",
    "for i in range(n):\n",
    "    bet = random.randint(1, 10)\n",
    "    #print(\"Bet number is \", bet)\n",
    "\n",
    "    lucky = random.randint(1, 10)\n",
    "    #print(\"lucky number is \", lucky)\n",
    "\n",
    "    if lucky == bet:\n",
    "        account = account + 900\n",
    "        account = account - 100\n",
    "    else:\n",
    "        account = account - 100\n",
    "\n",
    "print(\"Your money is \",account)"
   ]
  },
  {
   "cell_type": "markdown",
   "metadata": {},
   "source": [
    "Anagrams"
   ]
  },
  {
   "cell_type": "code",
   "execution_count": 7,
   "metadata": {},
   "outputs": [
    {
     "name": "stdout",
     "output_type": "stream",
     "text": [
      "These are not anagrams\n"
     ]
    }
   ],
   "source": [
    "str1 = input(\"enter string1\")\n",
    "str2 = input(\"enter string 2\")\n",
    "count1 = 0\n",
    "i = 0\n",
    "while(i < len(str1)):\n",
    "    count1 += ord(str1[i])\n",
    "    i += 1\n",
    "j = 0\n",
    "count2 = 0\n",
    "while (j < len(str2)):\n",
    "    count2 += ord(str2[j])\n",
    "    j += 1\n",
    "if (count1 == count2):\n",
    "    print(\"these are anagrams\")\n",
    "else:\n",
    "    print(\"These are not anagrams\")\n",
    "\n",
    "\n",
    "# str1=input(\"enter string 1\")\n",
    "# str2=input(\"enter string 2\")\n",
    "# if (sorted(str1)==sorted(str2)):\n",
    "#     print(\"These are anagrams\")\n",
    "# else:\n",
    "#     print(\"These are not anagrams\")\n"
   ]
  },
  {
   "cell_type": "markdown",
   "metadata": {},
   "source": [
    "Programming Assignment"
   ]
  },
  {
   "cell_type": "code",
   "execution_count": 8,
   "metadata": {},
   "outputs": [
    {
     "name": "stdout",
     "output_type": "stream",
     "text": [
      "(1, 2, 3, 4, 5, 1, 4, 9, 16, 25)\n"
     ]
    }
   ],
   "source": [
    "def squareT(t):\n",
    "  L = []\n",
    "  for i in t:\n",
    "    L.append(i*i)\n",
    "  return(tuple(list(t)+L))\n",
    "\n",
    "\n",
    "if __name__ == \"__main__\":\n",
    "    n = int(input())\n",
    "    L = list(map(int, input().split()))\n",
    "    T = tuple(L)\n",
    "    ans = squareT(T)\n",
    "    if type(ans) == type(T):\n",
    "        print(ans)\n"
   ]
  },
  {
   "cell_type": "code",
   "execution_count": 9,
   "metadata": {},
   "outputs": [
    {
     "name": "stdout",
     "output_type": "stream",
     "text": [
      "\t _hell_\n"
     ]
    }
   ],
   "source": [
    "def replaceV(s):\n",
    "  a = s\n",
    "  v = list(\"aeiou\"+\"AEIOU\")\n",
    "  for i in range(len(s)-2):\n",
    "    if s[i] in v and s[i+1] in v and s[i+2] in v:\n",
    "        a = a.replace(s[i]+s[i+1]+s[i+2], '_')\n",
    "  return(a)\n",
    "\n",
    "\n",
    "S = input()\n",
    "print(replaceV(S))\n"
   ]
  },
  {
   "cell_type": "code",
   "execution_count": 10,
   "metadata": {},
   "outputs": [
    {
     "name": "stdout",
     "output_type": "stream",
     "text": [
      "[5, 1, 6, 7, 8, 10, 9, 2, 0, 0]"
     ]
    }
   ],
   "source": [
    "n = 10\n",
    "L = list(map(int, input().split()))\n",
    "z=[]\n",
    "a=[]\n",
    "for i in L:\n",
    "  if i!=0:\n",
    "    a.append(i)\n",
    "  else:\n",
    "    z.append(0)\n",
    "print(a+z,end=\"\")"
   ]
  }
 ],
 "metadata": {
  "interpreter": {
   "hash": "30fc89ff08706d63a43ed97d41edccf680ad820a0599a4ed9844163a4ca53dc4"
  },
  "kernelspec": {
   "display_name": "Python 3.10.2 64-bit",
   "language": "python",
   "name": "python3"
  },
  "language_info": {
   "codemirror_mode": {
    "name": "ipython",
    "version": 3
   },
   "file_extension": ".py",
   "mimetype": "text/x-python",
   "name": "python",
   "nbconvert_exporter": "python",
   "pygments_lexer": "ipython3",
   "version": "3.10.2"
  },
  "orig_nbformat": 4
 },
 "nbformat": 4,
 "nbformat_minor": 2
}
