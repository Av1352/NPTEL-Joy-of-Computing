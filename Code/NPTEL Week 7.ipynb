{
 "cells": [
  {
   "cell_type": "markdown",
   "metadata": {},
   "source": [
    "Quiz"
   ]
  },
  {
   "cell_type": "code",
   "execution_count": 1,
   "metadata": {},
   "outputs": [
    {
     "name": "stdout",
     "output_type": "stream",
     "text": [
      "1 5 9 10 11 3 7 2 6 "
     ]
    }
   ],
   "source": [
    "def spiral (row, column, arr):\n",
    "  rowStart = 0; columnStart = 0\n",
    "  while (rowStart < row and columnStart < column):\n",
    "    for i in range(rowStart, row):\n",
    "      print(arr[i] [columnStart], end = \" \")\n",
    "\n",
    "    columnStart = columnStart +1\n",
    "    for i in range (columnStart, column):\n",
    "      print(arr[row - 1][i], end = \" \")\n",
    "    row = row-1\n",
    "    if (rowStart < row):\n",
    "      for i in range(row):\n",
    "        print(arr[i] [column - 1], end = \" \")\n",
    "      column = column - 1\n",
    "\n",
    "    if (columnStart < column) :\n",
    "      for i in range(column -1, columnStart - 1, -1) :\n",
    "        print( arr[rowStart] [i], end = \" \")\n",
    "      rowStart= rowStart +1\n",
    "\n",
    "matrix = [[1, 2,3 ],\n",
    "          [5, 6, 7 ],\n",
    "          [9, 10, 11 ]]\n",
    "\n",
    "row = 3\n",
    "column= 3\n",
    "spiral (row, column, matrix)"
   ]
  },
  {
   "cell_type": "code",
   "execution_count": null,
   "metadata": {},
   "outputs": [],
   "source": [
    "import turtle\n",
    "pen = turtle.Turtle()\n",
    "\n",
    "for i in range(3):\n",
    "    pen.forward(60)\n",
    "    pen.right(120)\n",
    "\n",
    "turtle.done()"
   ]
  },
  {
   "cell_type": "code",
   "execution_count": null,
   "metadata": {},
   "outputs": [],
   "source": [
    "import turtle\n",
    "pen = turtle.Turtle()\n",
    "\n",
    "for i in range(3):\n",
    "    pen.right(60)\n",
    "    pen.forward(60)\n",
    "    pen.right(60)\n",
    "    pen.forward(60)  \n",
    "\n",
    "turtle.done()"
   ]
  },
  {
   "cell_type": "code",
   "execution_count": 1,
   "metadata": {},
   "outputs": [],
   "source": [
    "import turtle\n",
    "pen = turtle.Turtle()\n",
    "for i in range(3):\n",
    "    pen.right(60)\n",
    "    pen.forward(60)\n",
    "    pen.penup()\n",
    "    pen.right(60)\n",
    "    pen.forward(60)\n",
    "    pen.pendown()\n",
    "turtle.done()\n"
   ]
  },
  {
   "cell_type": "markdown",
   "metadata": {},
   "source": [
    "Programming Assignment"
   ]
  },
  {
   "cell_type": "code",
   "execution_count": null,
   "metadata": {},
   "outputs": [],
   "source": [
    "def DiagCalc(L):\n",
    "  L_sum=0\n",
    "  R_sum=0\n",
    "  m=L[::-1]\n",
    "  for i in range(len(L)):\n",
    "    for j in range(len(L)):\n",
    "      if i==j:\n",
    "        L_sum+=L[i][j]\n",
    "        R_sum+=m[i][j] \n",
    "  print(L_sum)  \n",
    "  print(R_sum,end=\"\")"
   ]
  },
  {
   "cell_type": "code",
   "execution_count": null,
   "metadata": {},
   "outputs": [],
   "source": [
    "import numpy\n",
    "from array import *\n",
    "\n",
    "\n",
    "def Transpose(M):\n",
    "    arr = numpy.array(M)\n",
    "    num_list = arr.transpose().tolist()\n",
    "    return(num_list)"
   ]
  },
  {
   "cell_type": "code",
   "execution_count": null,
   "metadata": {},
   "outputs": [],
   "source": [
    "def snake(M):\n",
    "  s = 0\n",
    "  sm = []\n",
    "  for r in M:\n",
    "    m = []\n",
    "    s = s+1\n",
    "    if s % 2 == 0:\n",
    "      m = r[::-1]\n",
    "    else:\n",
    "      m = r\n",
    "    sm += m\n",
    "  return(sm)"
   ]
  }
 ],
 "metadata": {
  "interpreter": {
   "hash": "30fc89ff08706d63a43ed97d41edccf680ad820a0599a4ed9844163a4ca53dc4"
  },
  "kernelspec": {
   "display_name": "Python 3.10.2 64-bit",
   "language": "python",
   "name": "python3"
  },
  "language_info": {
   "codemirror_mode": {
    "name": "ipython",
    "version": 3
   },
   "file_extension": ".py",
   "mimetype": "text/x-python",
   "name": "python",
   "nbconvert_exporter": "python",
   "pygments_lexer": "ipython3",
   "version": "3.10.2"
  },
  "orig_nbformat": 4
 },
 "nbformat": 4,
 "nbformat_minor": 2
}
