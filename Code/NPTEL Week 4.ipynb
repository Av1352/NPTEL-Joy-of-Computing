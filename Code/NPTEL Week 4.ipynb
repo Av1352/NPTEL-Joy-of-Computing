{
 "cells": [
  {
   "cell_type": "markdown",
   "metadata": {},
   "source": [
    "Magic Square"
   ]
  },
  {
   "cell_type": "code",
   "execution_count": 2,
   "metadata": {},
   "outputs": [
    {
     "name": "stdout",
     "output_type": "stream",
     "text": [
      "2 7 6 \n",
      "9 5 1 \n",
      "4 3 8 \n",
      "Sum of each row/column/diagonal is: 15.0\n"
     ]
    }
   ],
   "source": [
    "def magic_square(n): \n",
    "    magicSquare = [] \n",
    "    for i in range(n):\n",
    "      l=[]\n",
    "      for j in range(n):\n",
    "        l.append(0)\n",
    "      magicSquare.append(l)\n",
    "    i = n / 2\n",
    "    j = n - 1\n",
    "    num = n*n\n",
    "    count = 1\n",
    "    while (count <= num): \n",
    "        if i == -1 and j == n: \n",
    "            j = n - 2\n",
    "            i = 0\n",
    "        else:  \n",
    "            if j == n: \n",
    "                j = 0    \n",
    "            if i < 0: \n",
    "                i = n - 1\n",
    "        if magicSquare[int(i)][int(j)]:\n",
    "            j = j - 2\n",
    "            i = i + 1\n",
    "            continue\n",
    "        else: \n",
    "            magicSquare[int(i)][int(j)] = count \n",
    "            count = count + 1\n",
    "        j = j + 1\n",
    "        i = i - 1 \n",
    "    \n",
    "    for i in range(0, n): \n",
    "        for j in range(0, n): \n",
    "            print((magicSquare[i][j]),end = ' ') \n",
    "            if j == n - 1:  \n",
    "                print()\n",
    "    print(\"Sum of each row/column/diagonal is: \"+str(n*(n**2+1)/2)) \n",
    "\n",
    "n=int(input(\"Number of rows of the Magic Square:\"))\n",
    "magic_square(n)"
   ]
  },
  {
   "cell_type": "markdown",
   "metadata": {},
   "source": [
    "Dobble Game"
   ]
  },
  {
   "cell_type": "code",
   "execution_count": 4,
   "metadata": {},
   "outputs": [
    {
     "name": "stdout",
     "output_type": "stream",
     "text": [
      "['b', 'u', 'r', 'p', 'U']\n",
      "['b', 'g', 'a', 'm', 't']\n",
      "Right\n"
     ]
    }
   ],
   "source": [
    "import string\n",
    "import random\n",
    "\n",
    "symbols = []\n",
    "symbols = list(string.ascii_letters)\n",
    "card1 = [0]*5\n",
    "card2 = [0]*5\n",
    "pos1 = random.randint(0,4)\n",
    "pos2 = random.randint(0,4)\n",
    "#pos1 and pos2 are same symbol positions in card1 and card2\n",
    "samesymbol = random.choice(symbols)\n",
    "symbols.remove(samesymbol)\n",
    "if(pos1 == pos2):\n",
    "  card2[pos1] = samesymbol\n",
    "  card1[pos1] = samesymbol\n",
    "else:\n",
    "  card1[pos1] = samesymbol\n",
    "  card2[pos2] = samesymbol\n",
    "\n",
    "  card1[pos2] = random.choice(symbols)\n",
    "  symbols.remove(card1[pos2])\n",
    "  card2[pos1] = random.choice(symbols)\n",
    "  symbols.remove(card2[pos1])\n",
    "\n",
    "i = 0\n",
    "while(i<5):\n",
    "  if(i!=pos1 and i!=pos2):\n",
    "    alphabet1 = random.choice(symbols)\n",
    "    symbols.remove(alphabet1)\n",
    "    \n",
    "    alphabet2 = random.choice(symbols)\n",
    "    symbols.remove(alphabet2)\n",
    "\n",
    "    card1[i] = alphabet1\n",
    "    card2[i] = alphabet2\n",
    "  i = i+1\n",
    "\n",
    "print(card1)\n",
    "print(card2)\n",
    "ch = input(\"Spot the similar symbol\")\n",
    "if(ch==samesymbol):\n",
    "  print(\"Right\")\n",
    "else:\n",
    "   print(\"Wrong\")"
   ]
  },
  {
   "cell_type": "markdown",
   "metadata": {},
   "source": [
    "Birthday Paradox"
   ]
  },
  {
   "cell_type": "code",
   "execution_count": 5,
   "metadata": {},
   "outputs": [
    {
     "name": "stdout",
     "output_type": "stream",
     "text": [
      "2018\n",
      "Given year is not a leap year\n"
     ]
    }
   ],
   "source": [
    "import random\n",
    "year = random.randint(1993,2018)\n",
    "print(year)\n",
    "if(year%4==0 and year%100!=0 or year%400==0):\n",
    "  print(\"Given year is a leap year\")\n",
    "else:\n",
    "  print(\"Given year is not a leap year\")"
   ]
  },
  {
   "cell_type": "markdown",
   "metadata": {},
   "source": [
    "Guess the movie name"
   ]
  },
  {
   "cell_type": "code",
   "execution_count": 6,
   "metadata": {},
   "outputs": [],
   "source": [
    "import random\n",
    "movie = [\"black friday\", \"tare zamin par\", \"nayak\", \"cargo\",\"chuha billi\", \"saand ki atma\", \"corona ki jawani\", \"shila ki sardi\",\"annkho dekhi\", \"chudiya ki prem katha\",\"masaan\"]\n",
    "\n",
    "def create_question(movie):\n",
    "    n = len(movie)\n",
    "    letter = list(movie)\n",
    "    temp = []\n",
    "    for i in range(n):\n",
    "        if letter[i]==\" \":\n",
    "            temp.append(\" \")\n",
    "        else:\n",
    "            temp.append(\"*\")\n",
    "    qn=\"\".join(str(x) for x in temp)\n",
    "    return qn\n",
    "def is_present(letter,movie):\n",
    "    c=movie.count(letter)\n",
    "    if c ==0:\n",
    "        return False\n",
    "    else:\n",
    "        return True\n",
    "def unlock(qn,movie,letter):\n",
    "    ref=list(movie)\n",
    "    qn_list =list(qn)\n",
    "    temp =[]\n",
    "    n=len(movie)\n",
    "    for i in range(n):\n",
    "        if ref[i]==\" \" or ref[i]==letter:\n",
    "            temp.append(ref[i])\n",
    "        else:\n",
    "            if qn_list[i]==\"*\":\n",
    "                temp.append(\"*\")\n",
    "            else:\n",
    "                temp.append(ref[i])\n",
    "    qn_new=\"\".join(str(x) for x in temp)\n",
    "    return qn_new\n",
    "def play():\n",
    "    player1 = input(\"player1 please enter your name\")\n",
    "    player2 = input(\"player2 please enter your name\")\n",
    "    pp1 = 0\n",
    "    pp2 = 0\n",
    "    turn = 0\n",
    "    willing = True\n",
    "    while willing:\n",
    "        if turn%2==0:\n",
    "            print(\"its player1 trun\")\n",
    "            picked_movie = random.choice(movie)\n",
    "            qn = create_question(picked_movie)\n",
    "            print (qn)\n",
    "            modified_qn = qn\n",
    "            not_said = True\n",
    "            while not_said:\n",
    "                letter = input(\"your letter: \")\n",
    "                if(is_present(letter,picked_movie)):\n",
    "                    modified_qn=unlock(modified_qn,picked_movie,letter)\n",
    "                    print(modified_qn)\n",
    "                    d = int(input(\"press 1 for movie and 2 for another letter: \"))\n",
    "                    if d ==1:\n",
    "                        ans = input(\"enter your answer\")\n",
    "                        if ans == picked_movie:\n",
    "                            pp1=pp1+1\n",
    "                            print(\"correct\")\n",
    "                            not_said = False\n",
    "                            print(player1,\"your score\", pp1)\n",
    "                        else:\n",
    "                            print(\"wrong answer try again\")\n",
    "                    else:\n",
    "                        print (letter,\"not found\")\n",
    "            c = int(input(\"press 1 to continue 0 to exit\"))\n",
    "            if c ==0:\n",
    "                print(player1,\"your score:\", pp1)\n",
    "                print(player2,\"your score:\", pp2)\n",
    "                turn = turn+1\n",
    "        \n",
    "                \n",
    "        else:\n",
    "            print(\"its player2 trun\")\n",
    "            picked_movie = random.choice(movie)\n",
    "            qn = create_question(picked_movie)\n",
    "            print (qn)\n",
    "            modified_qn = qn\n",
    "            not_said = True\n",
    "            while not_said:\n",
    "                letter = input(\"your letter: \")\n",
    "                if(is_present(letter,picked_movie)):\n",
    "                    modified_qn=unlock(modified_qn,picked_movie,letter)\n",
    "                    print(modified_qn)\n",
    "                    d = int(input(\"press 1 for movie and 2 for another letter: \"))\n",
    "                    if d ==1:\n",
    "                        ans = input(\"enter your answer\")\n",
    "                        if ans == picked_movie:\n",
    "                            pp2=pp2+1\n",
    "                            print(\"correct\")\n",
    "                            not_said = False\n",
    "                            print(player2,\"your score\", pp2)\n",
    "                        else:\n",
    "                            print(\"wrong answer try again\")\n",
    "                    else:\n",
    "                        print (letter,\"not found\")\n",
    "            c = int(input(\"press 1 to continue 0 to exit\"))\n",
    "            if c ==0:\n",
    "                print(player1,\"your score:\", pp1)\n",
    "                print(player2,\"your score:\", pp2)\n",
    "                willing = False\n",
    "        turn = turn+1\n"
   ]
  },
  {
   "cell_type": "markdown",
   "metadata": {},
   "source": [
    "Assignment"
   ]
  },
  {
   "cell_type": "code",
   "execution_count": null,
   "metadata": {},
   "outputs": [],
   "source": [
    "import string\n",
    "import random\n",
    "\n",
    "A = string.ascii_letters\n",
    "\n",
    "n = int(input())\n",
    "\n",
    "for i in range(n):\n",
    "  L=[]\n",
    "  for j in range(n) :\n",
    "    L.append (random. choice (A))\n",
    "  for element in L:\n",
    "    print(element, end=('\\t' ))\n",
    "  print()"
   ]
  },
  {
   "cell_type": "code",
   "execution_count": null,
   "metadata": {},
   "outputs": [],
   "source": [
    "L1 =['harry potter', 'matrix', 'spiderman','avengers', 'john wick' ]\n",
    "L2= ['drishyam', 'spiderman', 'bahubali', 'dhoom', 'race', 'matrix ' ]\n",
    "L=[]\n",
    "for i in range (len(L1)):\n",
    "  flag = 0\n",
    "  for j in range (len (L2) ):\n",
    "    if(L1[i] == L2[j]):\n",
    "      flag=1\n",
    "      break\n",
    "    else:\n",
    "      flag=0\n",
    "  if(flag == 0):\n",
    "    L.append(L1[i])\n",
    "  \n",
    "print(L)"
   ]
  },
  {
   "cell_type": "code",
   "execution_count": null,
   "metadata": {},
   "outputs": [],
   "source": [
    "import random\n",
    "L = ['harry potter', 'matrix', 'spiderman',' terminator', 'karate kid']\n",
    "movie = random.choice (L)\n",
    "count = 0\n",
    "\n",
    "for character in movie :\n",
    "  if(character == 'a' or character == 'A'):\n",
    "    count = count+1\n",
    "  elif (character == 'e' or character == 'E'):\n",
    "    count = count+1\n",
    "  elif (character == 'i' or character == 'I'):\n",
    "    count = count+1\n",
    "  elif(character == 'o' or character == '0'):\n",
    "    count= count+1\n",
    "  elif(character == 'U' or character == 'u'):\n",
    "    count = count+1\n",
    "print(count, movie)"
   ]
  },
  {
   "cell_type": "code",
   "execution_count": null,
   "metadata": {},
   "outputs": [],
   "source": [
    "for i in range(5,20):\n",
    "  if(i%5==0):\n",
    "    print(i**2)"
   ]
  },
  {
   "cell_type": "code",
   "execution_count": null,
   "metadata": {},
   "outputs": [],
   "source": [
    "print([i**2 for i in range(10) if i%2 == 0])"
   ]
  },
  {
   "cell_type": "code",
   "execution_count": null,
   "metadata": {},
   "outputs": [],
   "source": [
    "n=int(input())\n",
    "for i in range(1, n+1):\n",
    "\tfor j in range(1,n-i+1):\n",
    "\t\tprint(\" \", end=\"\")\n",
    "\tfor k in range(i):\n",
    "\t\tprint(\"*\",end=\"\")\n",
    "\tif i!=n:\n",
    "\t\tprint(\"\\n\",end=\"\")"
   ]
  },
  {
   "cell_type": "code",
   "execution_count": null,
   "metadata": {},
   "outputs": [],
   "source": [
    "s = input()\n",
    "ans=\"\"\n",
    "con=[\"A\",\"E\",\"I\",\"O\",\"U\",\"a\",\"e\",\"i\",\"o\",\"u\"]\n",
    "for i in s:\n",
    "  if i not in con:\n",
    "    ans+=\"_\"\n",
    "  else:\n",
    "    ans+=i\n",
    "print(ans,end=\"\")"
   ]
  },
  {
   "cell_type": "code",
   "execution_count": null,
   "metadata": {},
   "outputs": [],
   "source": [
    "L = [int(i) for i in input().split()]\n",
    "ans=[]\n",
    "for i in L:\n",
    "  if L.count(i)==2 and i !=\"z\":\n",
    "      ans.append(i)\n",
    "      L[L.index(i)]=\"z\"\n",
    "for b in ans:\n",
    "  if ans.index(b)==len(ans)-1:\n",
    "    print(b,end=\"\")\n",
    "  else:\n",
    "    print(b)"
   ]
  },
  {
   "cell_type": "code",
   "execution_count": null,
   "metadata": {},
   "outputs": [],
   "source": [
    "L = [int(i) for i in input().split()]\n",
    "ans=[]\n",
    "for i in L:\n",
    "  if L.count(i)==2 and i !=\"z\":\n",
    "      ans.append(i)\n",
    "      L[L.index(i)]=\"z\"\n",
    "for b in ans:\n",
    "  if ans.index(b)==len(ans)-1:\n",
    "    print(b,end=\"\")\n",
    "  else:\n",
    "    print(b)"
   ]
  }
 ],
 "metadata": {
  "interpreter": {
   "hash": "30fc89ff08706d63a43ed97d41edccf680ad820a0599a4ed9844163a4ca53dc4"
  },
  "kernelspec": {
   "display_name": "Python 3.10.2 64-bit",
   "language": "python",
   "name": "python3"
  },
  "language_info": {
   "codemirror_mode": {
    "name": "ipython",
    "version": 3
   },
   "file_extension": ".py",
   "mimetype": "text/x-python",
   "name": "python",
   "nbconvert_exporter": "python",
   "pygments_lexer": "ipython3",
   "version": "3.10.2"
  },
  "orig_nbformat": 4
 },
 "nbformat": 4,
 "nbformat_minor": 2
}
