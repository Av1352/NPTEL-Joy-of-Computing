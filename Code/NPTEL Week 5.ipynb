{
 "cells": [
  {
   "cell_type": "markdown",
   "metadata": {},
   "source": [
    "Speech to Text"
   ]
  },
  {
   "cell_type": "code",
   "execution_count": null,
   "metadata": {},
   "outputs": [],
   "source": [
    "import speech_recognition as sr\n",
    "AUDIO_FILE = (\"Spiderman.wav\")\n",
    "\n",
    "r = sr.Recognizer()\n",
    "\n",
    "with sr.AudioFile(AUDIO_FILE) as source:\n",
    "  audio = r.record(source)\n",
    "\n",
    "try:\n",
    "  print(\"audio file contains \\n\" + r.recognize_google(audio))\n",
    "except sr.UnknownValueError:\n",
    "  print(\"Google Speech Recognition could not understand audio\")\n",
    "except sr.RequestError:\n",
    "  print(\"Could'nt get the results from Google Speech Recognition\")"
   ]
  },
  {
   "cell_type": "markdown",
   "metadata": {},
   "source": [
    "Monte Hall"
   ]
  },
  {
   "cell_type": "code",
   "execution_count": null,
   "metadata": {},
   "outputs": [],
   "source": [
    "import random\n",
    "doors=[0]*3\n",
    "goatdoor=[]\n",
    "prize=random.randint(0,2)\n",
    "doors[prize]=\"bmw\"\n",
    "for i in range(len(doors)):\n",
    "    if (i!=prize):\n",
    "        doors[i]=\"goat\"\n",
    "        goatdoor.append(i)\n",
    "    else:\n",
    "        continue\n",
    "c=int(input(\"enter choice 0,1 or 2 \"))\n",
    "dooropen=random.choice(goatdoor)\n",
    "while(dooropen==c):\n",
    "    dooropen=random.choice(goatdoor)\n",
    "print(\"There is a goat in position \",dooropen)    \n",
    "s=input(\"Enter s to swap \")\n",
    "if (doors[c]==\"goat\" and s=='s'):\n",
    "    print(\"player wins\")\n",
    "elif (doors[c]==\"goat\" and s!='s'):\n",
    "    print(\"player loses \")\n",
    "elif (doors[c]==\"bmw\" and s=='s'):\n",
    "    print(\"player loses \")\n",
    "elif (doors[c]==\"bmw\" and s!='s'):\n",
    "    print(\"player wins \")\n",
    "else:\n",
    "    print(\"enter valid choice number \")"
   ]
  },
  {
   "cell_type": "markdown",
   "metadata": {},
   "source": [
    "Rock, Paper and Scissor"
   ]
  },
  {
   "cell_type": "code",
   "execution_count": null,
   "metadata": {},
   "outputs": [],
   "source": [
    "def rock_paper_scissor(num1,num2,bit1,bit2):\n",
    "  p1=int(num1[bit1])%3\n",
    "  p2=int(num2[bit2])*3\n",
    "  if(player_one[p1]==player_two[p2]):\n",
    "    print(\"Draw\")\n",
    "  elif(player_one[p1]==\"Rock\" and player_two[p2]==\"Scissor\"):\n",
    "    print (\"Player one wins !!\")\n",
    "  elif(player_one[p1]==\"Rock\" and player_two[p2]==\"Paper\" ):\n",
    "    print(\"Player two wins!!\")\n",
    "\n",
    "  elif(player_one[p1]==\"Paper\" and player_two [p2] ==\"Scissor\"):\n",
    "    print(\"Player two wins!!\")\n",
    "  elif(player_one[p1]==\"Paper\" and player_two [p2] ==\"Rock\"):\n",
    "    print(\"Player one wins!!\")\n",
    "\n",
    "  elif(player_one[p1]==\"Scissor\" and player_two [p2] ==\"Rock\"):\n",
    "    print(\"Player two wins!!\")  \n",
    "  elif(player_one[p1]==\"Scissor\" and player_two [p2] ==\"Paper\"):\n",
    "    print(\"Player one wins!!\")  \n",
    "  \n",
    "\n",
    "player_one={0: 'Paper',1: 'Rock' ,2:'Scissor' }\n",
    "player_two={0: 'Paper',1: 'Rock' ,2:'Scissor' }\n",
    "while (1):\n",
    "  num1=input(\"Player one, Enter your choice\")\n",
    "  num2=input(\"Player two, Enter your choice\")\n",
    "  bit1 = int(input (\"Player one, Enter the secret bit position\"))\n",
    "  bit2 = int(input (\"Player one, Enter the secret bit position\"))\n",
    "  rock_paper_scissor(num1,num2,bit1,bit2)\n",
    "  ch=input(\"Do you want to continue? y/n\")\n",
    "  if(ch=='n'):\n",
    "    break\n"
   ]
  },
  {
   "cell_type": "markdown",
   "metadata": {},
   "source": [
    "Sorting and Searching"
   ]
  },
  {
   "cell_type": "code",
   "execution_count": null,
   "metadata": {},
   "outputs": [],
   "source": [
    "def linear_search(n,x):\n",
    "    l=[]\n",
    "    for i in range(1,n):\n",
    "        l.append(i)\n",
    "    count=0\n",
    "    found=0\n",
    "    for j in range(len(l)):\n",
    "        count+=1\n",
    "        if(l[j]==x):\n",
    "            print(\"number found at position\" +str(j))\n",
    "            found=1\n",
    "            break\n",
    "    if (found==0):\n",
    "        print(\"number not found\")\n",
    "    print(\"Total iterations were \" +str(count)+ \" this much\")\n",
    "\n",
    "def binary_search(a,x):\n",
    "    n=len(a)\n",
    "    low=0\n",
    "    high=n-1\n",
    "    flag=0\n",
    "    count=0\n",
    "    while (low<=high and flag==0):\n",
    "        count+=1\n",
    "        mid=(high+low)//2\n",
    "        if (x==a[mid]):\n",
    "            print(\"number found at position\"+str(mid))\n",
    "            print(\"number of iteretions were\"+str(count))\n",
    "            return\n",
    "        else:\n",
    "            if (x<a[mid]):\n",
    "                high=mid-1\n",
    "            else:\n",
    "                low=mid+1\n",
    "        \n",
    "    print(\"number not found\")\n",
    "\n",
    "    \n",
    "a=[]\n",
    "for i in range(1,151000):\n",
    "    a.append(i)\n",
    "binary_search(a,530001)"
   ]
  },
  {
   "cell_type": "markdown",
   "metadata": {},
   "source": [
    "Assignment"
   ]
  },
  {
   "cell_type": "code",
   "execution_count": null,
   "metadata": {},
   "outputs": [],
   "source": [
    "def count_letters(string):\n",
    "  d={}\n",
    "  for s in string:\n",
    "    if s not in d:\n",
    "      d[s]=string.count(s)\n",
    "  return(d)\n",
    "\n",
    "S = input()\n",
    "d = count_letters(S)"
   ]
  },
  {
   "cell_type": "code",
   "execution_count": null,
   "metadata": {},
   "outputs": [],
   "source": [
    "def uniqueE(L):\n",
    "  ans=[]\n",
    "  for a in L:\n",
    "    if L.count(a)==1:\n",
    "      ans.append(a)\n",
    "  return(sorted(ans))\n",
    "\n",
    "L = [int(i) for i in input().split()]\n",
    "print(uniqueE(L))"
   ]
  },
  {
   "cell_type": "code",
   "execution_count": null,
   "metadata": {},
   "outputs": [],
   "source": [
    "L = [int(i) for i in input().split()]\n",
    "prime_numbers=[2, 3, 5, 7, 11, 13, 17, 19, 23, 29, 31, 37, 41, 43, 47,\n",
    "               53, 59, 61, 67, 71, 73, 79, 83, 89, 97, 101, 103, 107, 109,\n",
    "               113, 127, 131, 137, 139, 149, 151, 157, 163, 167, 173, 179, 181, 191, 193, 197,\n",
    "               199, 211, 223, 227, 229, 233, 239, 241, 251, 257, 263, 269, 271, 277, 281, 283, 293]\n",
    "for a in L:\n",
    "  if a in prime_numbers:\n",
    "    print(a,end=\"\")\n",
    "    break"
   ]
  }
 ],
 "metadata": {
  "interpreter": {
   "hash": "30fc89ff08706d63a43ed97d41edccf680ad820a0599a4ed9844163a4ca53dc4"
  },
  "kernelspec": {
   "display_name": "Python 3.10.2 64-bit",
   "language": "python",
   "name": "python3"
  },
  "language_info": {
   "name": "python",
   "version": "3.10.2"
  },
  "orig_nbformat": 4
 },
 "nbformat": 4,
 "nbformat_minor": 2
}
